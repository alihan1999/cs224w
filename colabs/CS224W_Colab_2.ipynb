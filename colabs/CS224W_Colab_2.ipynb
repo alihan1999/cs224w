{
  "nbformat": 4,
  "nbformat_minor": 0,
  "metadata": {
    "colab": {
      "provenance": []
    },
    "kernelspec": {
      "name": "python3",
      "display_name": "Python 3"
    },
    "language_info": {
      "name": "python"
    }
  },
  "cells": [
    {
      "cell_type": "code",
      "execution_count": 36,
      "metadata": {
        "colab": {
          "base_uri": "https://localhost:8080/"
        },
        "id": "IvdUUJnh7OXA",
        "outputId": "51255c92-1a63-4104-9102-433b61d73d10"
      },
      "outputs": [
        {
          "output_type": "stream",
          "name": "stdout",
          "text": [
            "torch version: 2.0.1+cu118\n"
          ]
        }
      ],
      "source": [
        "import torch\n",
        "import os\n",
        "print(\"torch version: {}\".format(torch.__version__))"
      ]
    },
    {
      "cell_type": "code",
      "source": [
        "# Install torch geometric\n",
        "if 'IS_GRADESCOPE_ENV' not in os.environ:\n",
        "  !pip install torch-scatter -f https://pytorch-geometric.com/whl/torch-1.13.1+cu116.html\n",
        "  !pip install torch-sparse -f https://pytorch-geometric.com/whl/torch-1.13.1+cu116.html\n",
        "  !pip install torch-geometric\n",
        "  !pip install ogb\n",
        ""
      ],
      "metadata": {
        "colab": {
          "base_uri": "https://localhost:8080/"
        },
        "id": "3o5mQ0Uw7Wsk",
        "outputId": "00704d49-53f5-41e7-b41f-0e52af11389b"
      },
      "execution_count": 37,
      "outputs": [
        {
          "output_type": "stream",
          "name": "stdout",
          "text": [
            "Looking in links: https://pytorch-geometric.com/whl/torch-1.13.1+cu116.html\n",
            "Requirement already satisfied: torch-scatter in /usr/local/lib/python3.10/dist-packages (2.1.1+pt113cu116)\n",
            "Looking in links: https://pytorch-geometric.com/whl/torch-1.13.1+cu116.html\n",
            "Requirement already satisfied: torch-sparse in /usr/local/lib/python3.10/dist-packages (0.6.17+pt113cu116)\n",
            "Requirement already satisfied: scipy in /usr/local/lib/python3.10/dist-packages (from torch-sparse) (1.10.1)\n",
            "Requirement already satisfied: numpy<1.27.0,>=1.19.5 in /usr/local/lib/python3.10/dist-packages (from scipy->torch-sparse) (1.23.5)\n",
            "Requirement already satisfied: torch-geometric in /usr/local/lib/python3.10/dist-packages (2.3.1)\n",
            "Requirement already satisfied: tqdm in /usr/local/lib/python3.10/dist-packages (from torch-geometric) (4.66.0)\n",
            "Requirement already satisfied: numpy in /usr/local/lib/python3.10/dist-packages (from torch-geometric) (1.23.5)\n",
            "Requirement already satisfied: scipy in /usr/local/lib/python3.10/dist-packages (from torch-geometric) (1.10.1)\n",
            "Requirement already satisfied: jinja2 in /usr/local/lib/python3.10/dist-packages (from torch-geometric) (3.1.2)\n",
            "Requirement already satisfied: requests in /usr/local/lib/python3.10/dist-packages (from torch-geometric) (2.31.0)\n",
            "Requirement already satisfied: pyparsing in /usr/local/lib/python3.10/dist-packages (from torch-geometric) (3.1.1)\n",
            "Requirement already satisfied: scikit-learn in /usr/local/lib/python3.10/dist-packages (from torch-geometric) (1.2.2)\n",
            "Requirement already satisfied: psutil>=5.8.0 in /usr/local/lib/python3.10/dist-packages (from torch-geometric) (5.9.5)\n",
            "Requirement already satisfied: MarkupSafe>=2.0 in /usr/local/lib/python3.10/dist-packages (from jinja2->torch-geometric) (2.1.3)\n",
            "Requirement already satisfied: charset-normalizer<4,>=2 in /usr/local/lib/python3.10/dist-packages (from requests->torch-geometric) (3.2.0)\n",
            "Requirement already satisfied: idna<4,>=2.5 in /usr/local/lib/python3.10/dist-packages (from requests->torch-geometric) (3.4)\n",
            "Requirement already satisfied: urllib3<3,>=1.21.1 in /usr/local/lib/python3.10/dist-packages (from requests->torch-geometric) (2.0.4)\n",
            "Requirement already satisfied: certifi>=2017.4.17 in /usr/local/lib/python3.10/dist-packages (from requests->torch-geometric) (2023.7.22)\n",
            "Requirement already satisfied: joblib>=1.1.1 in /usr/local/lib/python3.10/dist-packages (from scikit-learn->torch-geometric) (1.3.2)\n",
            "Requirement already satisfied: threadpoolctl>=2.0.0 in /usr/local/lib/python3.10/dist-packages (from scikit-learn->torch-geometric) (3.2.0)\n",
            "Requirement already satisfied: ogb in /usr/local/lib/python3.10/dist-packages (1.3.6)\n",
            "Requirement already satisfied: torch>=1.6.0 in /usr/local/lib/python3.10/dist-packages (from ogb) (2.0.1+cu118)\n",
            "Requirement already satisfied: numpy>=1.16.0 in /usr/local/lib/python3.10/dist-packages (from ogb) (1.23.5)\n",
            "Requirement already satisfied: tqdm>=4.29.0 in /usr/local/lib/python3.10/dist-packages (from ogb) (4.66.0)\n",
            "Requirement already satisfied: scikit-learn>=0.20.0 in /usr/local/lib/python3.10/dist-packages (from ogb) (1.2.2)\n",
            "Requirement already satisfied: pandas>=0.24.0 in /usr/local/lib/python3.10/dist-packages (from ogb) (1.5.3)\n",
            "Requirement already satisfied: six>=1.12.0 in /usr/local/lib/python3.10/dist-packages (from ogb) (1.16.0)\n",
            "Requirement already satisfied: urllib3>=1.24.0 in /usr/local/lib/python3.10/dist-packages (from ogb) (2.0.4)\n",
            "Requirement already satisfied: outdated>=0.2.0 in /usr/local/lib/python3.10/dist-packages (from ogb) (0.2.2)\n",
            "Requirement already satisfied: setuptools>=44 in /usr/local/lib/python3.10/dist-packages (from outdated>=0.2.0->ogb) (67.7.2)\n",
            "Requirement already satisfied: littleutils in /usr/local/lib/python3.10/dist-packages (from outdated>=0.2.0->ogb) (0.2.2)\n",
            "Requirement already satisfied: requests in /usr/local/lib/python3.10/dist-packages (from outdated>=0.2.0->ogb) (2.31.0)\n",
            "Requirement already satisfied: python-dateutil>=2.8.1 in /usr/local/lib/python3.10/dist-packages (from pandas>=0.24.0->ogb) (2.8.2)\n",
            "Requirement already satisfied: pytz>=2020.1 in /usr/local/lib/python3.10/dist-packages (from pandas>=0.24.0->ogb) (2023.3)\n",
            "Requirement already satisfied: scipy>=1.3.2 in /usr/local/lib/python3.10/dist-packages (from scikit-learn>=0.20.0->ogb) (1.10.1)\n",
            "Requirement already satisfied: joblib>=1.1.1 in /usr/local/lib/python3.10/dist-packages (from scikit-learn>=0.20.0->ogb) (1.3.2)\n",
            "Requirement already satisfied: threadpoolctl>=2.0.0 in /usr/local/lib/python3.10/dist-packages (from scikit-learn>=0.20.0->ogb) (3.2.0)\n",
            "Requirement already satisfied: filelock in /usr/local/lib/python3.10/dist-packages (from torch>=1.6.0->ogb) (3.12.2)\n",
            "Requirement already satisfied: typing-extensions in /usr/local/lib/python3.10/dist-packages (from torch>=1.6.0->ogb) (4.7.1)\n",
            "Requirement already satisfied: sympy in /usr/local/lib/python3.10/dist-packages (from torch>=1.6.0->ogb) (1.12)\n",
            "Requirement already satisfied: networkx in /usr/local/lib/python3.10/dist-packages (from torch>=1.6.0->ogb) (3.1)\n",
            "Requirement already satisfied: jinja2 in /usr/local/lib/python3.10/dist-packages (from torch>=1.6.0->ogb) (3.1.2)\n",
            "Requirement already satisfied: triton==2.0.0 in /usr/local/lib/python3.10/dist-packages (from torch>=1.6.0->ogb) (2.0.0)\n",
            "Requirement already satisfied: cmake in /usr/local/lib/python3.10/dist-packages (from triton==2.0.0->torch>=1.6.0->ogb) (3.27.1)\n",
            "Requirement already satisfied: lit in /usr/local/lib/python3.10/dist-packages (from triton==2.0.0->torch>=1.6.0->ogb) (16.0.6)\n",
            "Requirement already satisfied: MarkupSafe>=2.0 in /usr/local/lib/python3.10/dist-packages (from jinja2->torch>=1.6.0->ogb) (2.1.3)\n",
            "Requirement already satisfied: charset-normalizer<4,>=2 in /usr/local/lib/python3.10/dist-packages (from requests->outdated>=0.2.0->ogb) (3.2.0)\n",
            "Requirement already satisfied: idna<4,>=2.5 in /usr/local/lib/python3.10/dist-packages (from requests->outdated>=0.2.0->ogb) (3.4)\n",
            "Requirement already satisfied: certifi>=2017.4.17 in /usr/local/lib/python3.10/dist-packages (from requests->outdated>=0.2.0->ogb) (2023.7.22)\n",
            "Requirement already satisfied: mpmath>=0.19 in /usr/local/lib/python3.10/dist-packages (from sympy->torch>=1.6.0->ogb) (1.3.0)\n"
          ]
        }
      ]
    },
    {
      "cell_type": "code",
      "source": [
        "from torch_geometric.datasets import TUDataset\n",
        "\n",
        "if 'IS_GRADESCOPE_ENV' not in os.environ:\n",
        "  root = './enzymes'\n",
        "  name = 'ENZYMES'\n",
        "\n",
        "  # The ENZYMES dataset\n",
        "  pyg_dataset= TUDataset(root, name)\n",
        "\n",
        "  # You will find that there are 600 graphs in this dataset\n",
        "  print(pyg_dataset)"
      ],
      "metadata": {
        "colab": {
          "base_uri": "https://localhost:8080/"
        },
        "id": "5luOyIWq7dTR",
        "outputId": "9bb802e7-dec5-4be8-8a8d-cac1e05d688b"
      },
      "execution_count": 38,
      "outputs": [
        {
          "output_type": "stream",
          "name": "stdout",
          "text": [
            "ENZYMES(600)\n"
          ]
        }
      ]
    },
    {
      "cell_type": "markdown",
      "source": [
        "#Q1"
      ],
      "metadata": {
        "id": "NrRKq5YE8yYa"
      }
    },
    {
      "cell_type": "code",
      "source": [
        "def get_num_classes(pyg_dataset):\n",
        "  # TODO: Implement a function that takes a PyG dataset object\n",
        "  # and returns the number of classes for that dataset.\n",
        "\n",
        "  num_classes = 0\n",
        "\n",
        "  ############# Your code here ############\n",
        "\n",
        "  num_classes = pyg_dataset.num_classes\n",
        "\n",
        "  #########################################\n",
        "\n",
        "  return num_classes\n",
        "\n",
        "def get_num_features(pyg_dataset):\n",
        "  # TODO: Implement a function that takes a PyG dataset object\n",
        "  # and returns the number of features for that dataset.\n",
        "\n",
        "  num_features = 0\n",
        "\n",
        "  ############# Your code here ############\n",
        "\n",
        "  num_features = pyg_dataset.num_features\n",
        "  #########################################\n",
        "\n",
        "  return num_features\n",
        "\n",
        "if 'IS_GRADESCOPE_ENV' not in os.environ:\n",
        "  num_classes = get_num_classes(pyg_dataset)\n",
        "  num_features = get_num_features(pyg_dataset)\n",
        "  print(\"{} dataset has {} classes\".format(name, num_classes))\n",
        "  print(\"{} dataset has {} features\".format(name, num_features))"
      ],
      "metadata": {
        "colab": {
          "base_uri": "https://localhost:8080/"
        },
        "id": "G-g5XTDw7svA",
        "outputId": "7c62e0bb-5e9b-4909-c7a3-7ffe8a71d8ff"
      },
      "execution_count": 39,
      "outputs": [
        {
          "output_type": "stream",
          "name": "stdout",
          "text": [
            "ENZYMES dataset has 6 classes\n",
            "ENZYMES dataset has 3 features\n"
          ]
        }
      ]
    },
    {
      "cell_type": "markdown",
      "source": [
        "#Q2"
      ],
      "metadata": {
        "id": "qENQjgr889cg"
      }
    },
    {
      "cell_type": "code",
      "source": [
        "def get_graph_class(pyg_dataset, idx):\n",
        "  # TODO: Implement a function that takes a PyG dataset object,\n",
        "  # an index of a graph within the dataset, and returns the class/label\n",
        "  # of the graph (as an integer).\n",
        "\n",
        "  label = -1\n",
        "\n",
        "  ############# Your code here ############\n",
        "  label = pyg_dataset[idx].y.squeeze()\n",
        "\n",
        "  #########################################\n",
        "\n",
        "  return label\n",
        "\n",
        "# Here pyg_dataset is a dataset for graph classification\n",
        "if 'IS_GRADESCOPE_ENV' not in os.environ:\n",
        "  graph_0 = pyg_dataset[0]\n",
        "  print(graph_0)\n",
        "  idx = 100\n",
        "  label = get_graph_class(pyg_dataset, idx)\n",
        "  print('Graph with index {} has label {}'.format(idx, label))"
      ],
      "metadata": {
        "colab": {
          "base_uri": "https://localhost:8080/"
        },
        "id": "HAWW7Akh8I3k",
        "outputId": "0a8f3c61-83c9-4833-90bf-c5040f35a47f"
      },
      "execution_count": 40,
      "outputs": [
        {
          "output_type": "stream",
          "name": "stdout",
          "text": [
            "Data(edge_index=[2, 168], x=[37, 3], y=[1])\n",
            "Graph with index 100 has label 4\n"
          ]
        }
      ]
    },
    {
      "cell_type": "markdown",
      "source": [
        "#Q3"
      ],
      "metadata": {
        "id": "q03LLpGo9ZGl"
      }
    },
    {
      "cell_type": "code",
      "source": [
        "def get_graph_num_edges(pyg_dataset, idx):\n",
        "  # TODO: Implement a function that takes a PyG dataset object,\n",
        "  # the index of a graph in the dataset, and returns the number of\n",
        "  # edges in the graph (as an integer). You should not count an edge\n",
        "  # twice if the graph is undirected. For example, in an undirected\n",
        "  # graph G, if two nodes v and u are connected by an edge, this edge\n",
        "  # should only be counted once.\n",
        "\n",
        "  num_edges = 0\n",
        "\n",
        "  ############# Your code here ############\n",
        "  num_edges = (pyg_dataset[idx].edge_index.shape[1])//2\n",
        "  #########################################\n",
        "\n",
        "  return num_edges\n",
        "\n",
        "if 'IS_GRADESCOPE_ENV' not in os.environ:\n",
        "  idx = 200\n",
        "  num_edges = get_graph_num_edges(pyg_dataset, idx)\n",
        "  print('Graph with index {} has {} edges'.format(idx, num_edges))"
      ],
      "metadata": {
        "colab": {
          "base_uri": "https://localhost:8080/"
        },
        "id": "4E9cUgek8Pb9",
        "outputId": "4af10aab-4598-464a-b831-0bfb5a4013a5"
      },
      "execution_count": 41,
      "outputs": [
        {
          "output_type": "stream",
          "name": "stdout",
          "text": [
            "Graph with index 200 has 53 edges\n"
          ]
        }
      ]
    },
    {
      "cell_type": "markdown",
      "source": [
        "## OGB DATA LOAD"
      ],
      "metadata": {
        "id": "_UP_4oZ-94wT"
      }
    },
    {
      "cell_type": "code",
      "source": [
        "import torch_geometric.transforms as T\n",
        "from ogb.nodeproppred import PygNodePropPredDataset\n",
        "\n",
        "if 'IS_GRADESCOPE_ENV' not in os.environ:\n",
        "  dataset_name = 'ogbn-arxiv'\n",
        "  # Load the dataset and transform it to sparse tensor\n",
        "  dataset = PygNodePropPredDataset(name=dataset_name,\n",
        "                                  transform=T.ToSparseTensor())\n",
        "  print('The {} dataset has {} graph'.format(dataset_name, len(dataset)))\n",
        "\n",
        "  # Extract the graph\n",
        "  data = dataset[0]\n",
        "  print(data)"
      ],
      "metadata": {
        "colab": {
          "base_uri": "https://localhost:8080/"
        },
        "id": "wFDgzos89uNi",
        "outputId": "c4f8652a-7f6f-4a5e-ef16-269b5ee43c87"
      },
      "execution_count": 42,
      "outputs": [
        {
          "output_type": "stream",
          "name": "stdout",
          "text": [
            "The ogbn-arxiv dataset has 1 graph\n",
            "Data(num_nodes=169343, x=[169343, 128], node_year=[169343, 1], y=[169343, 1], adj_t=[169343, 169343])\n"
          ]
        }
      ]
    },
    {
      "cell_type": "markdown",
      "source": [
        "# Q4"
      ],
      "metadata": {
        "id": "blkeI_89-Ht9"
      }
    },
    {
      "cell_type": "code",
      "source": [
        "def graph_num_features(data):\n",
        "  # TODO: Implement a function that takes a PyG data object,\n",
        "  # and returns the number of features in the graph (as an integer).\n",
        "\n",
        "  num_features = 0\n",
        "\n",
        "  ############# Your code here ############\n",
        "  num_features = data.num_features\n",
        "\n",
        "  #########################################\n",
        "\n",
        "  return num_features\n",
        "\n",
        "if 'IS_GRADESCOPE_ENV' not in os.environ:\n",
        "  num_features = graph_num_features(data)\n",
        "  print('The graph has {} features'.format(num_features))"
      ],
      "metadata": {
        "colab": {
          "base_uri": "https://localhost:8080/"
        },
        "id": "3-pZgDNG-CxM",
        "outputId": "567d8915-238b-4e26-c5c5-0c04639e3fbe"
      },
      "execution_count": 43,
      "outputs": [
        {
          "output_type": "stream",
          "name": "stdout",
          "text": [
            "The graph has 128 features\n"
          ]
        }
      ]
    },
    {
      "cell_type": "code",
      "source": [
        "import torch\n",
        "import pandas as pd\n",
        "import torch.nn.functional as F\n",
        "print(torch.__version__)\n",
        "\n",
        "# The PyG built-in GCNConv\n",
        "from torch_geometric.nn import GCNConv\n",
        "\n",
        "import torch_geometric.transforms as T\n",
        "from ogb.nodeproppred import PygNodePropPredDataset, Evaluator"
      ],
      "metadata": {
        "colab": {
          "base_uri": "https://localhost:8080/"
        },
        "id": "YUOWxBHJ-ShV",
        "outputId": "e88eb6d8-2949-4a7d-9ed6-ef06786d687e"
      },
      "execution_count": 44,
      "outputs": [
        {
          "output_type": "stream",
          "name": "stdout",
          "text": [
            "2.0.1+cu118\n"
          ]
        }
      ]
    },
    {
      "cell_type": "code",
      "source": [
        "import os\n",
        "if 'IS_GRADESCOPE_ENV' not in os.environ:\n",
        "  dataset_name = 'ogbn-arxiv'\n",
        "  dataset = PygNodePropPredDataset(name=dataset_name,\n",
        "                                  transform=T.ToSparseTensor())\n",
        "\n",
        "  data  = dataset[0]\n",
        "\n",
        "  # Make the adjacency matrix to symmetric\n",
        "  #data.adj_t = data.adj_t.to_symmetric()\n",
        "\n",
        "  device = 'cuda' if torch.cuda.is_available() else 'cpu'\n",
        "\n",
        "  # If you use GPU, the device should be cuda\n",
        "  print('Device: {}'.format(device))\n",
        "\n",
        "  data = data.to(device)\n",
        "  split_idx = dataset.get_idx_split()\n",
        "  train_idx = split_idx['train'].to(device)"
      ],
      "metadata": {
        "colab": {
          "base_uri": "https://localhost:8080/"
        },
        "id": "Dgsijbkp-kL-",
        "outputId": "ab19faf2-3e30-48fb-bc8a-c99234c1f4e4"
      },
      "execution_count": 45,
      "outputs": [
        {
          "output_type": "stream",
          "name": "stdout",
          "text": [
            "Device: cpu\n"
          ]
        }
      ]
    },
    {
      "cell_type": "markdown",
      "source": [
        "# GCN Model"
      ],
      "metadata": {
        "id": "gYu-Uy5sIrb5"
      }
    },
    {
      "cell_type": "code",
      "source": [
        "import torch.nn as nn\n",
        "class GCN(torch.nn.Module):\n",
        "    def __init__(self, input_dim, hidden_dim, output_dim, num_layers,\n",
        "                 dropout, return_embeds=False):\n",
        "        # TODO: Implement a function that initializes self.convs,\n",
        "        # self.bns, and self.softmax.\n",
        "\n",
        "        super(GCN, self).__init__()\n",
        "\n",
        "        # A list of GCNConv layers\n",
        "        self.convs = nn.ModuleList([GCNConv(input_dim,hidden_dim)] + [GCNConv(hidden_dim,hidden_dim) for _ in range(num_layers-2)] + [GCNConv(hidden_dim,output_dim)])\n",
        "\n",
        "        # A list of 1D batch normalization layers\n",
        "        self.bns = nn.ModuleList([nn.BatchNorm1d(hidden_dim) for _ in range(num_layers-1)])\n",
        "\n",
        "        # The log softmax layer\n",
        "        self.softmax = nn.LogSoftmax()\n",
        "\n",
        "        ############# Your code here ############\n",
        "        ## Note:\n",
        "\n",
        "        ''' done '''\n",
        "\n",
        "\n",
        "        #########################################\n",
        "\n",
        "        # Probability of an element getting zeroed\n",
        "        self.dropout = dropout\n",
        "\n",
        "        # Skip classification layer and return node embeddings\n",
        "        self.return_embeds = return_embeds\n",
        "\n",
        "    def reset_parameters(self):\n",
        "        for conv in self.convs:\n",
        "            conv.reset_parameters()\n",
        "        for bn in self.bns:\n",
        "            bn.reset_parameters()\n",
        "\n",
        "    def forward(self, x, adj_t):\n",
        "        # TODO: Implement a function that takes the feature tensor x and\n",
        "        # edge_index tensor adj_t and returns the output tensor as\n",
        "        # shown in the figure.\n",
        "\n",
        "        out = None\n",
        "\n",
        "        ############# Your code here ############\n",
        "        for batch_norm,conv in zip(self.bns,self.convs[:-1]):\n",
        "          x1 = F.relu(batch_norm(conv(x,adj_t)))\n",
        "\n",
        "          if self.training:\n",
        "            x1 = F.dropout(x1,self.dropout)\n",
        "\n",
        "          x = x1\n",
        "\n",
        "        x = self.convs[-1](x,adj_t)\n",
        "\n",
        "        out = x if self.return_embeds else self.softmax(x)\n",
        "\n",
        "        #########################################\n",
        "\n",
        "        return out"
      ],
      "metadata": {
        "id": "sYqfJr24HdYW"
      },
      "execution_count": 52,
      "outputs": []
    },
    {
      "cell_type": "markdown",
      "source": [
        "# train\n"
      ],
      "metadata": {
        "id": "jnG64h4KLNXU"
      }
    },
    {
      "cell_type": "code",
      "source": [
        "def train(model, data, train_idx, optimizer, loss_fn):\n",
        "    # TODO: Implement a function that trains the model by\n",
        "    # using the given optimizer and loss_fn.\n",
        "    model.train()\n",
        "    loss = 0\n",
        "\n",
        "    ############# Your code here ############\n",
        "    ## Note:\n",
        "    ## 1. Zero grad the optimizer\n",
        "    ## 2. Feed the data into the model\n",
        "    ## 3. Slice the model output and label by train_idx\n",
        "    ## 4. Feed the sliced output and label to loss_fn\n",
        "    ## (~4 lines of code)\n",
        "\n",
        "    optimizer.zero_grad()\n",
        "\n",
        "    out = model(data.x,data.adj_t)\n",
        "\n",
        "    loss = loss_fn(out[train_idx],data.y[train_idx].reshape(-1))\n",
        "\n",
        "    #########################################\n",
        "\n",
        "    loss.backward()\n",
        "    optimizer.step()\n",
        "\n",
        "    return loss.item()"
      ],
      "metadata": {
        "id": "lnqjNIfKJLtk"
      },
      "execution_count": 48,
      "outputs": []
    },
    {
      "cell_type": "code",
      "source": [
        "# Test function here\n",
        "@torch.no_grad()\n",
        "def test(model, data, split_idx, evaluator, save_model_results=False):\n",
        "    # TODO: Implement a function that tests the model by\n",
        "    # using the given split_idx and evaluator.\n",
        "    model.eval()\n",
        "\n",
        "    # The output of model on all data\n",
        "    out = None\n",
        "\n",
        "    ############# Your code here ############\n",
        "    ## (~1 line of code)\n",
        "    ## Note:\n",
        "    ## 1. No index slicing here\n",
        "\n",
        "    out = model(data.x,data.adj_t)\n",
        "\n",
        "    #########################################\n",
        "\n",
        "    y_pred = out.argmax(dim=-1, keepdim=True)\n",
        "\n",
        "    train_acc = evaluator.eval({\n",
        "        'y_true': data.y[split_idx['train']],\n",
        "        'y_pred': y_pred[split_idx['train']],\n",
        "    })['acc']\n",
        "    valid_acc = evaluator.eval({\n",
        "        'y_true': data.y[split_idx['valid']],\n",
        "        'y_pred': y_pred[split_idx['valid']],\n",
        "    })['acc']\n",
        "    test_acc = evaluator.eval({\n",
        "        'y_true': data.y[split_idx['test']],\n",
        "        'y_pred': y_pred[split_idx['test']],\n",
        "    })['acc']\n",
        "\n",
        "    if save_model_results:\n",
        "      print (\"Saving Model Predictions\")\n",
        "\n",
        "      data = {}\n",
        "      data['y_pred'] = y_pred.view(-1).cpu().detach().numpy()\n",
        "\n",
        "      df = pd.DataFrame(data=data)\n",
        "      # Save locally as csv\n",
        "      df.to_csv('ogbn-arxiv_node.csv', sep=',', index=False)\n",
        "\n",
        "\n",
        "    return train_acc, valid_acc, test_acc"
      ],
      "metadata": {
        "id": "79UFZ9vsMFcD"
      },
      "execution_count": 49,
      "outputs": []
    },
    {
      "cell_type": "code",
      "source": [
        "# Please do not change the args\n",
        "if 'IS_GRADESCOPE_ENV' not in os.environ:\n",
        "  args = {\n",
        "      'device': device,\n",
        "      'num_layers': 3,\n",
        "      'hidden_dim': 256,\n",
        "      'dropout': 0.5,\n",
        "      'lr': 0.01,\n",
        "      'epochs': 100,\n",
        "  }\n",
        "  args"
      ],
      "metadata": {
        "id": "mG-EKFJeMX6P"
      },
      "execution_count": 50,
      "outputs": []
    },
    {
      "cell_type": "code",
      "source": [
        "if 'IS_GRADESCOPE_ENV' not in os.environ:\n",
        "  model = GCN(data.num_features, args['hidden_dim'],\n",
        "              dataset.num_classes, args['num_layers'],\n",
        "              args['dropout']).to(device)\n",
        "  evaluator = Evaluator(name='ogbn-arxiv')"
      ],
      "metadata": {
        "id": "4tN0YVVQMbNz"
      },
      "execution_count": 53,
      "outputs": []
    },
    {
      "cell_type": "code",
      "source": [
        "# Please do not change these args\n",
        "# Training should take <10min using GPU runtime\n",
        "import copy\n",
        "if 'IS_GRADESCOPE_ENV' not in os.environ:\n",
        "  # reset the parameters to initial random value\n",
        "  model.reset_parameters()\n",
        "\n",
        "  optimizer = torch.optim.Adam(model.parameters(), lr=args['lr'])\n",
        "  loss_fn = F.nll_loss\n",
        "\n",
        "  best_model = None\n",
        "  best_valid_acc = 0\n",
        "\n",
        "  for epoch in range(1, 1 + args[\"epochs\"]):\n",
        "    loss = train(model, data, train_idx, optimizer, loss_fn)\n",
        "    result = test(model, data, split_idx, evaluator)\n",
        "    train_acc, valid_acc, test_acc = result\n",
        "    if valid_acc > best_valid_acc:\n",
        "        best_valid_acc = valid_acc\n",
        "        best_model = copy.deepcopy(model)\n",
        "    print(f'Epoch: {epoch:02d}, '\n",
        "          f'Loss: {loss:.4f}, '\n",
        "          f'Train: {100 * train_acc:.2f}%, '\n",
        "          f'Valid: {100 * valid_acc:.2f}% '\n",
        "          f'Test: {100 * test_acc:.2f}%')"
      ],
      "metadata": {
        "colab": {
          "base_uri": "https://localhost:8080/"
        },
        "id": "WBiE81anMc9j",
        "outputId": "5bd61f3e-3baa-434f-98df-00be2fe72635"
      },
      "execution_count": null,
      "outputs": [
        {
          "output_type": "stream",
          "name": "stderr",
          "text": [
            "<ipython-input-52-3112f5e594dc>:57: UserWarning: Implicit dimension choice for log_softmax has been deprecated. Change the call to include dim=X as an argument.\n",
            "  out = x if self.return_embeds else self.softmax(x)\n"
          ]
        },
        {
          "output_type": "stream",
          "name": "stdout",
          "text": [
            "Epoch: 01, Loss: 4.7044, Train: 2.38%, Valid: 2.08% Test: 2.72%\n",
            "Epoch: 02, Loss: 2.7842, Train: 21.02%, Valid: 24.42% Test: 22.72%\n",
            "Epoch: 03, Loss: 2.5275, Train: 36.63%, Valid: 39.87% Test: 38.67%\n",
            "Epoch: 04, Loss: 2.3998, Train: 32.84%, Valid: 35.78% Test: 37.41%\n",
            "Epoch: 05, Loss: 2.2739, Train: 29.93%, Valid: 32.53% Test: 35.11%\n",
            "Epoch: 06, Loss: 2.1948, Train: 29.55%, Valid: 31.99% Test: 34.60%\n",
            "Epoch: 07, Loss: 2.1386, Train: 30.22%, Valid: 32.76% Test: 34.65%\n",
            "Epoch: 08, Loss: 2.0831, Train: 31.31%, Valid: 33.98% Test: 35.35%\n",
            "Epoch: 09, Loss: 2.0271, Train: 32.82%, Valid: 35.89% Test: 36.58%\n",
            "Epoch: 10, Loss: 1.9770, Train: 35.26%, Valid: 38.46% Test: 38.47%\n",
            "Epoch: 11, Loss: 1.9409, Train: 38.56%, Valid: 41.96% Test: 40.81%\n",
            "Epoch: 12, Loss: 1.9049, Train: 42.33%, Valid: 45.40% Test: 43.18%\n",
            "Epoch: 13, Loss: 1.8732, Train: 46.14%, Valid: 48.28% Test: 45.19%\n",
            "Epoch: 14, Loss: 1.8381, Train: 49.12%, Valid: 50.41% Test: 46.71%\n",
            "Epoch: 15, Loss: 1.8122, Train: 51.10%, Valid: 51.81% Test: 47.62%\n",
            "Epoch: 16, Loss: 1.7875, Train: 52.44%, Valid: 52.50% Test: 47.97%\n",
            "Epoch: 17, Loss: 1.7716, Train: 53.30%, Valid: 52.97% Test: 47.90%\n",
            "Epoch: 18, Loss: 1.7542, Train: 53.93%, Valid: 53.17% Test: 47.18%\n",
            "Epoch: 19, Loss: 1.7366, Train: 54.36%, Valid: 52.96% Test: 46.14%\n",
            "Epoch: 20, Loss: 1.7276, Train: 54.72%, Valid: 52.64% Test: 45.12%\n",
            "Epoch: 21, Loss: 1.7128, Train: 54.85%, Valid: 52.28% Test: 44.33%\n",
            "Epoch: 22, Loss: 1.7016, Train: 54.99%, Valid: 51.94% Test: 43.75%\n",
            "Epoch: 23, Loss: 1.6900, Train: 54.95%, Valid: 51.42% Test: 43.33%\n",
            "Epoch: 24, Loss: 1.6747, Train: 54.96%, Valid: 51.15% Test: 43.14%\n",
            "Epoch: 25, Loss: 1.6681, Train: 55.32%, Valid: 51.49% Test: 43.62%\n",
            "Epoch: 26, Loss: 1.6527, Train: 55.87%, Valid: 52.00% Test: 44.58%\n",
            "Epoch: 27, Loss: 1.6481, Train: 56.35%, Valid: 52.80% Test: 45.74%\n",
            "Epoch: 28, Loss: 1.6358, Train: 56.78%, Valid: 53.71% Test: 46.90%\n",
            "Epoch: 29, Loss: 1.6259, Train: 57.28%, Valid: 54.47% Test: 47.94%\n",
            "Epoch: 30, Loss: 1.6211, Train: 57.67%, Valid: 55.21% Test: 48.62%\n",
            "Epoch: 31, Loss: 1.6151, Train: 57.99%, Valid: 55.92% Test: 49.20%\n",
            "Epoch: 32, Loss: 1.6075, Train: 58.24%, Valid: 56.18% Test: 49.58%\n",
            "Epoch: 33, Loss: 1.6020, Train: 58.46%, Valid: 56.44% Test: 49.88%\n",
            "Epoch: 34, Loss: 1.5922, Train: 58.69%, Valid: 56.70% Test: 50.09%\n",
            "Epoch: 35, Loss: 1.5840, Train: 58.86%, Valid: 56.84% Test: 50.12%\n",
            "Epoch: 36, Loss: 1.5778, Train: 58.91%, Valid: 56.75% Test: 50.05%\n",
            "Epoch: 37, Loss: 1.5727, Train: 58.96%, Valid: 56.87% Test: 50.04%\n",
            "Epoch: 38, Loss: 1.5625, Train: 59.09%, Valid: 56.86% Test: 50.04%\n",
            "Epoch: 39, Loss: 1.5636, Train: 59.18%, Valid: 56.91% Test: 50.15%\n",
            "Epoch: 40, Loss: 1.5573, Train: 59.24%, Valid: 56.87% Test: 50.23%\n",
            "Epoch: 41, Loss: 1.5495, Train: 59.36%, Valid: 57.17% Test: 50.49%\n",
            "Epoch: 42, Loss: 1.5457, Train: 59.56%, Valid: 57.21% Test: 50.70%\n",
            "Epoch: 43, Loss: 1.5398, Train: 59.72%, Valid: 57.31% Test: 50.77%\n",
            "Epoch: 44, Loss: 1.5355, Train: 59.85%, Valid: 57.38% Test: 50.81%\n",
            "Epoch: 45, Loss: 1.5324, Train: 59.90%, Valid: 57.35% Test: 50.84%\n",
            "Epoch: 46, Loss: 1.5198, Train: 60.06%, Valid: 57.26% Test: 50.87%\n",
            "Epoch: 47, Loss: 1.5180, Train: 60.16%, Valid: 57.17% Test: 50.86%\n",
            "Epoch: 48, Loss: 1.5131, Train: 60.25%, Valid: 57.25% Test: 50.91%\n",
            "Epoch: 49, Loss: 1.5136, Train: 60.37%, Valid: 57.25% Test: 50.86%\n",
            "Epoch: 50, Loss: 1.5037, Train: 60.50%, Valid: 57.27% Test: 50.87%\n",
            "Epoch: 51, Loss: 1.5033, Train: 60.58%, Valid: 57.46% Test: 51.02%\n",
            "Epoch: 52, Loss: 1.5027, Train: 60.66%, Valid: 57.61% Test: 51.11%\n",
            "Epoch: 53, Loss: 1.4965, Train: 60.70%, Valid: 57.72% Test: 51.23%\n",
            "Epoch: 54, Loss: 1.4910, Train: 60.74%, Valid: 57.83% Test: 51.22%\n",
            "Epoch: 55, Loss: 1.4886, Train: 60.79%, Valid: 57.90% Test: 51.22%\n",
            "Epoch: 56, Loss: 1.4882, Train: 60.95%, Valid: 57.93% Test: 51.19%\n",
            "Epoch: 57, Loss: 1.4852, Train: 61.13%, Valid: 57.90% Test: 51.27%\n",
            "Epoch: 58, Loss: 1.4764, Train: 61.21%, Valid: 57.96% Test: 51.28%\n",
            "Epoch: 59, Loss: 1.4730, Train: 61.28%, Valid: 58.09% Test: 51.41%\n",
            "Epoch: 60, Loss: 1.4753, Train: 61.35%, Valid: 58.18% Test: 51.64%\n",
            "Epoch: 61, Loss: 1.4715, Train: 61.45%, Valid: 58.30% Test: 51.78%\n",
            "Epoch: 62, Loss: 1.4663, Train: 61.59%, Valid: 58.53% Test: 52.10%\n",
            "Epoch: 63, Loss: 1.4630, Train: 61.68%, Valid: 58.48% Test: 52.08%\n",
            "Epoch: 64, Loss: 1.4596, Train: 61.77%, Valid: 58.54% Test: 52.03%\n",
            "Epoch: 65, Loss: 1.4557, Train: 61.77%, Valid: 58.49% Test: 52.00%\n",
            "Epoch: 66, Loss: 1.4546, Train: 61.87%, Valid: 58.54% Test: 51.96%\n",
            "Epoch: 67, Loss: 1.4515, Train: 61.90%, Valid: 58.49% Test: 51.89%\n",
            "Epoch: 68, Loss: 1.4500, Train: 61.92%, Valid: 58.33% Test: 51.73%\n",
            "Epoch: 69, Loss: 1.4479, Train: 61.91%, Valid: 58.23% Test: 51.73%\n",
            "Epoch: 70, Loss: 1.4430, Train: 61.99%, Valid: 58.37% Test: 51.80%\n",
            "Epoch: 71, Loss: 1.4403, Train: 62.18%, Valid: 58.65% Test: 52.00%\n",
            "Epoch: 72, Loss: 1.4402, Train: 62.30%, Valid: 58.80% Test: 52.19%\n",
            "Epoch: 73, Loss: 1.4389, Train: 62.36%, Valid: 58.78% Test: 52.23%\n",
            "Epoch: 74, Loss: 1.4299, Train: 62.47%, Valid: 59.06% Test: 52.39%\n",
            "Epoch: 75, Loss: 1.4302, Train: 62.57%, Valid: 58.90% Test: 52.35%\n"
          ]
        }
      ]
    },
    {
      "cell_type": "code",
      "source": [],
      "metadata": {
        "id": "4G0VReh1Mwkd"
      },
      "execution_count": null,
      "outputs": []
    }
  ]
}